{
 "cells": [
  {
   "cell_type": "code",
   "execution_count": null,
   "id": "291e5c5e",
   "metadata": {},
   "outputs": [],
   "source": [
    "import numpy as np\n",
    "import pandas as pd\n",
    "import seaborn as sns \n",
    "import matplotlib.pyplot as plt\n",
    "import matplotlib.style as style\n",
    "import nltk \n",
    "from nltk.corpus import stopwords \n",
    "from nltk.stem import WordNetLemmatizer\n",
    "from nltk.corpus import wordnet\n",
    "from wordcloud import WordCloud \n",
    "from sklearn.feature_extraction.text import CountVectorizer\n",
    "import re\n",
    "import warnings\n",
    "from joblib import load, dump\n",
    "import os\n",
    "style.use(\"bmh\")\n",
    "\n",
    "warnings.filterwarnings('ignore')\n",
    "plt.rcParams[\"figure.figsize\"] = [16,8]"
   ]
  },
  {
   "cell_type": "code",
   "execution_count": null,
   "id": "239873b6",
   "metadata": {},
   "outputs": [],
   "source": [
    "nltk.download('punkt')\n",
    "nltk.download('stopwords')\n",
    "nltk.download('wordnet')\n",
    "nltk.download('averaged_perceptron_tagger')\n",
    "nltk.download('omw-1.4')"
   ]
  },
  {
   "cell_type": "code",
   "execution_count": 3,
   "id": "b4a86b70",
   "metadata": {},
   "outputs": [],
   "source": [
    "true = pd.read_csv(\"True.csv\")\n",
    "true[\"label\"] = 0\n",
    "fake = pd.read_csv(\"Fake.csv\")\n",
    "fake[\"label\"] = 1\n",
    "df = pd.concat([true, fake], ignore_index=True)"
   ]
  },
  {
   "cell_type": "code",
   "execution_count": 4,
   "id": "baba361c",
   "metadata": {},
   "outputs": [
    {
     "data": {
      "text/html": [
       "<div>\n",
       "<style scoped>\n",
       "    .dataframe tbody tr th:only-of-type {\n",
       "        vertical-align: middle;\n",
       "    }\n",
       "\n",
       "    .dataframe tbody tr th {\n",
       "        vertical-align: top;\n",
       "    }\n",
       "\n",
       "    .dataframe thead th {\n",
       "        text-align: right;\n",
       "    }\n",
       "</style>\n",
       "<table border=\"1\" class=\"dataframe\">\n",
       "  <thead>\n",
       "    <tr style=\"text-align: right;\">\n",
       "      <th></th>\n",
       "      <th>title</th>\n",
       "      <th>text</th>\n",
       "      <th>subject</th>\n",
       "      <th>date</th>\n",
       "      <th>label</th>\n",
       "    </tr>\n",
       "  </thead>\n",
       "  <tbody>\n",
       "    <tr>\n",
       "      <th>0</th>\n",
       "      <td>As U.S. budget fight looms, Republicans flip t...</td>\n",
       "      <td>WASHINGTON (Reuters) - The head of a conservat...</td>\n",
       "      <td>politicsNews</td>\n",
       "      <td>December 31, 2017</td>\n",
       "      <td>0</td>\n",
       "    </tr>\n",
       "    <tr>\n",
       "      <th>1</th>\n",
       "      <td>U.S. military to accept transgender recruits o...</td>\n",
       "      <td>WASHINGTON (Reuters) - Transgender people will...</td>\n",
       "      <td>politicsNews</td>\n",
       "      <td>December 29, 2017</td>\n",
       "      <td>0</td>\n",
       "    </tr>\n",
       "    <tr>\n",
       "      <th>2</th>\n",
       "      <td>Senior U.S. Republican senator: 'Let Mr. Muell...</td>\n",
       "      <td>WASHINGTON (Reuters) - The special counsel inv...</td>\n",
       "      <td>politicsNews</td>\n",
       "      <td>December 31, 2017</td>\n",
       "      <td>0</td>\n",
       "    </tr>\n",
       "    <tr>\n",
       "      <th>3</th>\n",
       "      <td>FBI Russia probe helped by Australian diplomat...</td>\n",
       "      <td>WASHINGTON (Reuters) - Trump campaign adviser ...</td>\n",
       "      <td>politicsNews</td>\n",
       "      <td>December 30, 2017</td>\n",
       "      <td>0</td>\n",
       "    </tr>\n",
       "    <tr>\n",
       "      <th>4</th>\n",
       "      <td>Trump wants Postal Service to charge 'much mor...</td>\n",
       "      <td>SEATTLE/WASHINGTON (Reuters) - President Donal...</td>\n",
       "      <td>politicsNews</td>\n",
       "      <td>December 29, 2017</td>\n",
       "      <td>0</td>\n",
       "    </tr>\n",
       "  </tbody>\n",
       "</table>\n",
       "</div>"
      ],
      "text/plain": [
       "                                               title  \\\n",
       "0  As U.S. budget fight looms, Republicans flip t...   \n",
       "1  U.S. military to accept transgender recruits o...   \n",
       "2  Senior U.S. Republican senator: 'Let Mr. Muell...   \n",
       "3  FBI Russia probe helped by Australian diplomat...   \n",
       "4  Trump wants Postal Service to charge 'much mor...   \n",
       "\n",
       "                                                text       subject  \\\n",
       "0  WASHINGTON (Reuters) - The head of a conservat...  politicsNews   \n",
       "1  WASHINGTON (Reuters) - Transgender people will...  politicsNews   \n",
       "2  WASHINGTON (Reuters) - The special counsel inv...  politicsNews   \n",
       "3  WASHINGTON (Reuters) - Trump campaign adviser ...  politicsNews   \n",
       "4  SEATTLE/WASHINGTON (Reuters) - President Donal...  politicsNews   \n",
       "\n",
       "                 date  label  \n",
       "0  December 31, 2017       0  \n",
       "1  December 29, 2017       0  \n",
       "2  December 31, 2017       0  \n",
       "3  December 30, 2017       0  \n",
       "4  December 29, 2017       0  "
      ]
     },
     "execution_count": 4,
     "metadata": {},
     "output_type": "execute_result"
    }
   ],
   "source": [
    "df.head()"
   ]
  },
  {
   "cell_type": "code",
   "execution_count": 6,
   "id": "cad307ff",
   "metadata": {},
   "outputs": [
    {
     "data": {
      "text/plain": [
       "title      0\n",
       "text       0\n",
       "subject    0\n",
       "date       0\n",
       "label      0\n",
       "dtype: int64"
      ]
     },
     "execution_count": 6,
     "metadata": {},
     "output_type": "execute_result"
    }
   ],
   "source": [
    "df.isna().sum()"
   ]
  },
  {
   "cell_type": "code",
   "execution_count": 8,
   "id": "e21c49ec",
   "metadata": {},
   "outputs": [],
   "source": [
    "df = df.fillna(\" \")"
   ]
  },
  {
   "cell_type": "code",
   "execution_count": 9,
   "id": "5581b7ce",
   "metadata": {},
   "outputs": [],
   "source": [
    "df[\"corpus\"] = df[\"title\"]  + df[\"text\"]\n",
    "df = df.drop([\"title\", \"text\"], axis=1)\n",
    "\n",
    "\n",
    "df[\"corpus\"] = df[\"corpus\"].str.lower()"
   ]
  },
  {
   "cell_type": "code",
   "execution_count": 10,
   "id": "a845ab85",
   "metadata": {},
   "outputs": [],
   "source": [
    "lemmatizer = WordNetLemmatizer()\n",
    "\n",
    "def get_wordnet_pos(tag):\n",
    "    if tag.startswith('J'):\n",
    "        return wordnet.ADJ\n",
    "    elif tag.startswith('V'):\n",
    "        return wordnet.VERB\n",
    "    elif tag.startswith('N'):\n",
    "        return wordnet.NOUN\n",
    "    elif tag.startswith('R'):\n",
    "        return wordnet.ADV\n",
    "    else:\n",
    "        return None\n",
    "\n",
    "\n",
    "def lemmatize_text(text):\n",
    "    lemmatizer = WordNetLemmatizer()\n",
    "    lem_text = []\n",
    "    for word in text:\n",
    "        lem_text.append(lemmatizer.lemmatize(word))\n",
    "    return lem_text\n",
    "\n",
    "def clean_corpus(df):\n",
    "    df_len = df.shape[0]\n",
    "    for idx, row in df.iterrows():\n",
    "        # remove punctuations and keep only word or spaces\n",
    "        removed_spc_char_corpus = re.sub(r'[^\\w\\s]','', row[\"corpus\"])\n",
    "\n",
    "        # tokenize corpus\n",
    "        corpus_token = nltk.word_tokenize(removed_spc_char_corpus)\n",
    "\n",
    "        # remove stop words\n",
    "        stop_words = set(stopwords.words(\"english\"))\n",
    "        corpus_stop_wrd_remvd = [word for word in corpus_token if word not in stop_words]\n",
    "\n",
    "        # lemmatize words\n",
    "        cleaned_corpus = lemmatize_text(corpus_stop_wrd_remvd)\n",
    "\n",
    "        \n",
    "        \n",
    "        cleaned_corpus = ' '.join(cleaned_corpus)\n",
    "        df.loc[idx, \"corpus\"] = cleaned_corpus\n",
    "        \n",
    "        if not idx%2000:\n",
    "            print(f\"{idx}/{df_len}\")\n",
    "    \n",
    "    return df\n",
    "    "
   ]
  },
  {
   "cell_type": "code",
   "execution_count": 11,
   "id": "107b8a6f",
   "metadata": {},
   "outputs": [
    {
     "name": "stdout",
     "output_type": "stream",
     "text": [
      "0/44898\n",
      "2000/44898\n",
      "4000/44898\n",
      "6000/44898\n",
      "8000/44898\n",
      "10000/44898\n",
      "12000/44898\n",
      "14000/44898\n",
      "16000/44898\n",
      "18000/44898\n",
      "20000/44898\n",
      "22000/44898\n",
      "24000/44898\n",
      "26000/44898\n",
      "28000/44898\n",
      "30000/44898\n",
      "32000/44898\n",
      "34000/44898\n",
      "36000/44898\n",
      "38000/44898\n",
      "40000/44898\n",
      "42000/44898\n",
      "44000/44898\n"
     ]
    }
   ],
   "source": [
    "df = clean_corpus(df)"
   ]
  },
  {
   "cell_type": "code",
   "execution_count": 16,
   "id": "8e1669d5",
   "metadata": {},
   "outputs": [],
   "source": [
    "from sklearn.feature_extraction.text import TfidfTransformer, CountVectorizer, TfidfVectorizer\n",
    "from sklearn.linear_model import LogisticRegression\n",
    "from sklearn.ensemble import RandomForestRegressor\n",
    "from sklearn.naive_bayes import GaussianNB\n",
    "from sklearn.neighbors import KNeighborsClassifier\n",
    "from sklearn.metrics import recall_score, precision_score, f1_score, confusion_matrix, accuracy_score"
   ]
  },
  {
   "cell_type": "code",
   "execution_count": 17,
   "id": "c33e6a62",
   "metadata": {},
   "outputs": [],
   "source": [
    "X_train = df['corpus']\n",
    "Y_train = df['label']"
   ]
  },
  {
   "cell_type": "markdown",
   "id": "ade349f2",
   "metadata": {},
   "source": [
    "## Creating ML Models"
   ]
  },
  {
   "cell_type": "code",
   "execution_count": 18,
   "id": "e4380e37",
   "metadata": {},
   "outputs": [],
   "source": [
    "\n",
    "# Count Vectorizer\n",
    "count_vectorizer = CountVectorizer(max_features=500)\n",
    "count_vectorizer.fit(X_train)\n",
    "# Calculate frequency for each word in document\n",
    "freq_term_matrix = count_vectorizer.transform(X_train)\n",
    "\n",
    "# TF-TDF\n",
    "tfidf = TfidfTransformer(norm=\"l2\")\n",
    "tfidf.fit(freq_term_matrix)\n",
    "tf_idf_matrix = tfidf.transform(freq_term_matrix)"
   ]
  },
  {
   "cell_type": "code",
   "execution_count": 19,
   "id": "f3086732",
   "metadata": {},
   "outputs": [],
   "source": [
    "models = {\n",
    "    \"RandomForest\": RandomForestRegressor(n_estimators=100,max_depth=10, random_state=123),\n",
    "    \"LR\" : LogisticRegression(),\n",
    "    \"naive_bayes\" : GaussianNB(),\n",
    "    \"KNN\" : KNeighborsClassifier()}"
   ]
  },
  {
   "cell_type": "code",
   "execution_count": 20,
   "id": "1735682f",
   "metadata": {},
   "outputs": [],
   "source": [
    "\n",
    "from sklearn.model_selection import train_test_split\n",
    "X_train, X_test, y_train, y_test = train_test_split(tf_idf_matrix, Y_train,test_size=0.3, random_state=0)"
   ]
  },
  {
   "cell_type": "code",
   "execution_count": 21,
   "id": "5a50530b",
   "metadata": {},
   "outputs": [
    {
     "name": "stdout",
     "output_type": "stream",
     "text": [
      "Metric - RandomForest\n",
      "Recall         :  0.990521997453671\n",
      "Precision      :  0.9676616915422885\n",
      "F1 score       :  0.9789584061516953\n",
      "Accuracy score :  0.9776540460282108\n",
      "\n",
      "Metric - LR\n",
      "Recall         :  0.9766586504456076\n",
      "Precision      :  0.9830556742132992\n",
      "F1 score       :  0.9798467215441385\n",
      "Accuracy score :  0.9789161098737936\n",
      "\n",
      "Metric - naive_bayes\n",
      "Recall         :  0.8987126892063941\n",
      "Precision      :  0.938543359432708\n",
      "F1 score       :  0.9181962711374476\n",
      "Accuracy score :  0.9159613956941351\n",
      "\n",
      "Metric - KNN\n",
      "Recall         :  0.9067760645070024\n",
      "Precision      :  0.8019517077442763\n",
      "F1 score       :  0.8511485858451734\n",
      "Accuracy score :  0.8335560504825539\n",
      "\n"
     ]
    },
    {
     "data": {
      "image/png": "[encoded data removed]",
      "text/plain": [
       "<Figure size 864x576 with 8 Axes>"
      ]
     },
     "metadata": {
      "needs_background": "light"
     },
     "output_type": "display_data"
    }
   ],
   "source": [
    "num_models = len(models)\n",
    "num_rows = (num_models + 1) // 2  \n",
    "num_columns = 2\n",
    "\n",
    "\n",
    "fig = plt.figure(figsize=(12, 8))\n",
    "\n",
    "if not os.path.exists(\"models\"):\n",
    "    os.mkdir(\"models\")\n",
    "    \n",
    "for idx, model in enumerate(models):\n",
    "    models[model].fit(X_train.toarray(), y_train)\n",
    "    dump(models[model], f\"models/{model}.pkl\")\n",
    "    \n",
    "    y_prediction = models[model].predict(X_test.toarray())\n",
    "    y_prediction = np.where(y_prediction>0.5, 1, 0)\n",
    "\n",
    "    print(\"Metric - {}\".format(model))\n",
    "    print(\"Recall         : \", recall_score(y_pred=y_prediction, y_true=y_test))\n",
    "    print(\"Precision      : \", precision_score(y_pred=y_prediction, y_true=y_test))\n",
    "    print(\"F1 score       : \", f1_score(y_pred=y_prediction, y_true=y_test))\n",
    "    print(\"Accuracy score : \", accuracy_score(y_pred=y_prediction, y_true=y_test))\n",
    "    print(\"\")\n",
    "    \n",
    "    cm = confusion_matrix(y_pred=y_prediction, y_true=y_test)\n",
    "    \n",
    "    # Confusion matrix\n",
    "    ax = fig.add_subplot(num_rows, num_columns, idx + 1)\n",
    "    sns.heatmap(cm, cmap='Blues',ax=ax, annot=True, annot_kws={\"fontsize\": 10, \"ha\": \"center\"}, fmt=\".2f\")\n",
    "    ax.set_title(\"Confusion Matrix - {}\".format(model))\n",
    "    ax.set_xlabel(\"Predicted\")\n",
    "    ax.set_ylabel(\"Actual\")\n",
    "    ax.set_xticks([0.5, 1.5])\n",
    "    ax.set_yticks([0.5, 1.5])\n",
    "    ax.tick_params(pad=5)\n",
    "    ax.set_xticklabels([\"Class 0\", \"Class 1\"])\n",
    "    ax.set_yticklabels([\"Class 0\", \"Class 1\"])\n",
    "    ax.grid(False)\n",
    "\n",
    "plt.tight_layout()\n",
    "plt.show()"
   ]
  },
  {
   "cell_type": "markdown",
   "id": "f7076cd5",
   "metadata": {},
   "source": [
    "## Creating Deep Learning Models"
   ]
  },
  {
   "cell_type": "code",
   "execution_count": null,
   "id": "975d0037",
   "metadata": {},
   "outputs": [],
   "source": [
    "from tensorflow.keras.layers import Embedding,LSTM,Dense,Dropout, Input, Bidirectional, GRU\n",
    "from tensorflow.keras.preprocessing.sequence import pad_sequences\n",
    "from tensorflow.keras.models import Sequential \n",
    "from tensorflow.keras.preprocessing.text import one_hot\n",
    "from keras.callbacks import EarlyStopping, ModelCheckpoint\n",
    "from sklearn.model_selection import train_test_split\n",
    "import tensorflow as tf"
   ]
  },
  {
   "cell_type": "code",
   "execution_count": 23,
   "id": "b63ce55f",
   "metadata": {},
   "outputs": [],
   "source": [
    "X, y = df[\"corpus\"], df[\"label\"]\n",
    "X_train, X_test, y_train, y_test = train_test_split(X, y, random_state=0)\n",
    "\n",
    "corpus = X_train.tolist()\n",
    "corpus_test = X_test.tolist()\n",
    "\n",
    "vocab_size = 2000\n"
   ]
  },
  {
   "cell_type": "code",
   "execution_count": 24,
   "id": "c5ca5fce",
   "metadata": {},
   "outputs": [],
   "source": [
    "onehot_corpus = [one_hot(words,vocab_size)for words in corpus]\n",
    "onehot_corpus_test = [one_hot(words,vocab_size)for words in corpus_test]\n",
    "\n",
    "embedded_docs = pad_sequences(onehot_corpus,padding='post',maxlen=50)\n",
    "embedded_docs_test = pad_sequences(onehot_corpus_test,padding='post',maxlen=50)\n",
    "\n",
    "X_train = np.array(embedded_docs)\n",
    "y_train = np.array(y_train)\n",
    "X_test = np.array(embedded_docs_test)\n",
    "y_test = np.array(y_test)"
   ]
  },
  {
   "cell_type": "code",
   "execution_count": null,
   "id": "e1a6a406",
   "metadata": {},
   "outputs": [],
   "source": [
    "model = Sequential()\n",
    "model.add(Embedding(vocab_size,100,input_length=50,name=\"input\"))\n",
    "model.add(Dropout(0.2))\n",
    "model.add(LSTM(100))\n",
    "model.add(Dropout(0.2))\n",
    "model.add(Dense(32,activation='tanh'))\n",
    "model.add(Dropout(0.2))\n",
    "model.add(Dense(1,activation='sigmoid', name=\"target\"), )\n",
    "model.compile(loss='binary_crossentropy',optimizer='adam',metrics=['binary_crossentropy'])\n",
    "print(model.summary())"
   ]
  },
  {
   "cell_type": "code",
   "execution_count": 26,
   "id": "e575a116",
   "metadata": {},
   "outputs": [],
   "source": [
    "def bootstrap_generator(batch_size):\n",
    "    while True:\n",
    "        batch_idx = np.random.choice(np.array(X_train).shape[0], batch_size)\n",
    "    \n",
    "        yield ({\"input_input\": np.array(X_train)[batch_idx]},\n",
    "               {\"target\": np.array(y_train)[batch_idx]})"
   ]
  },
  {
   "cell_type": "code",
   "execution_count": null,
   "id": "89b4e103",
   "metadata": {
    "scrolled": true
   },
   "outputs": [],
   "source": [
    "model_name=\"LSTM\"\n",
    "modelCheckpoint = ModelCheckpoint(filepath=f\"models/{model_name}.h5\", monitor='loss', mode='min', save_best_only=True, verbose=1)\n",
    "earlystopping = EarlyStopping(monitor=\"loss\", patience=10, verbose=1, restore_best_weights=True)\n",
    "\n",
    "\n",
    "batch_size=512\n",
    "model.fit(bootstrap_generator(batch_size), epochs=100, steps_per_epoch=10, callbacks=[modelCheckpoint, earlystopping])\n",
    "\n"
   ]
  },
  {
   "cell_type": "code",
   "execution_count": 28,
   "id": "334e8e99",
   "metadata": {
    "scrolled": true
   },
   "outputs": [
    {
     "name": "stdout",
     "output_type": "stream",
     "text": [
      "351/351 [==============================] - 4s 9ms/step\n"
     ]
    }
   ],
   "source": [
    "y_prediction = model.predict(X_test)"
   ]
  },
  {
   "cell_type": "code",
   "execution_count": 29,
   "id": "15d8b095",
   "metadata": {},
   "outputs": [
    {
     "name": "stdout",
     "output_type": "stream",
     "text": [
      "Metric - Sequential NN\n",
      "Recall         :  0.9595425059747354\n",
      "Precision      :  0.9583972719522592\n",
      "F1 score       :  0.958969547044272\n",
      "Accuracy score :  0.9571492204899777\n",
      "\n"
     ]
    },
    {
     "data": {
      "image/png": "[encoded data removed]",
      "text/plain": [
       "<Figure size 288x288 with 2 Axes>"
      ]
     },
     "metadata": {
      "needs_background": "light"
     },
     "output_type": "display_data"
    }
   ],
   "source": [
    "f, ax = plt.subplots(1,1, figsize=(4,4))\n",
    "y_prediction = np.where(y_prediction>0.5, 1, 0)\n",
    "print(\"Metric - {}\".format(\"Sequential NN\"))\n",
    "print(\"Recall         : \", recall_score(y_pred=y_prediction, y_true=y_test))\n",
    "print(\"Precision      : \", precision_score(y_pred=y_prediction, y_true=y_test))\n",
    "print(\"F1 score       : \", f1_score(y_pred=y_prediction, y_true=y_test))\n",
    "print(\"Accuracy score : \", accuracy_score(y_pred=y_prediction, y_true=y_test))\n",
    "\n",
    "print(\"\")\n",
    "\n",
    "cm = confusion_matrix(y_pred=y_prediction, y_true=y_test)\n",
    "\n",
    "sns.heatmap(cm, cmap='Blues', annot=True, annot_kws={\"fontsize\": 10, \"ha\": \"center\"}, fmt=\".2f\")\n",
    "ax.set_title(\"Confusion Matrix - {}\".format(\"Sequential NN\"), fontsize=8)\n",
    "ax.set_xlabel(\"Predicted\")\n",
    "ax.set_ylabel(\"Actual\")\n",
    "ax.set_xticks([0.5, 1.5])\n",
    "ax.set_yticks([0.5, 1.5])\n",
    "ax.tick_params(pad=5)\n",
    "ax.set_xticklabels([\"Class 0\", \"Class 1\"])\n",
    "ax.set_yticklabels([\"Class 0\", \"Class 1\"])\n",
    "ax.grid(False)\n",
    "plt.tight_layout()\n",
    "plt.show()"
   ]
  },
  {
   "cell_type": "code",
   "execution_count": 30,
   "id": "f86b2329",
   "metadata": {},
   "outputs": [],
   "source": [
    "model = load(\"models/LR.pkl\")"
   ]
  },
  {
   "cell_type": "code",
   "execution_count": 31,
   "id": "e6298cee",
   "metadata": {
    "scrolled": false
   },
   "outputs": [
    {
     "name": "stdout",
     "output_type": "stream",
     "text": [
      "Submit the news\n",
      "WASHINGTON (Reuters) - The special counsel investigation of links between Russia and President Trump‚Äôs 2016 election campaign should continue without interference in 2018, despite calls from some Trump administration allies and Republican lawmakers to shut it down, a prominent Republican senator said on Sunday. Lindsey Graham, who serves on the Senate armed forces and judiciary committees, said Department of Justice Special Counsel Robert Mueller needs to carry on with his Russia investigation without political interference. ‚ÄúThis investigation will go forward. It will be an investigation conducted without political influence,‚Äù Graham said on CBS‚Äôs Face the Nation news program. ‚ÄúAnd we all need to let Mr. Mueller do his job. I think he‚Äôs the right guy at the right time.‚Äù  The question of how Russia may have interfered in the election, and how Trump‚Äôs campaign may have had links with or co-ordinated any such effort, has loomed over the White House since Trump took office in January. It shows no sign of receding as Trump prepares for his second year in power, despite intensified rhetoric from some Trump allies in recent weeks accusing Mueller‚Äôs team of bias against the Republican president. Trump himself seemed to undercut his supporters in an interview last week with the New York Times in which he said he expected Mueller was ‚Äúgoing to be fair.‚Äù    Russia‚Äôs role in the election and the question of possible links to the Trump campaign are the focus of multiple inquiries in Washington. Three committees of the Senate and the House of Representatives are investigating, as well as Mueller, whose team in May took over an earlier probe launched by the U.S. Federal Bureau of Investigation (FBI). Several members of the Trump campaign and administration have been convicted or indicted in the investigation.  Trump and his allies deny any collusion with Russia during the campaign, and the Kremlin has denied meddling in the election. Graham said he still wants an examination of the FBI‚Äôs use of a dossier on links between Trump and Russia that was compiled by a former British spy, Christopher Steele, which prompted Trump allies and some Republicans to question Mueller‚Äôs inquiry.   On Saturday, the New York Times reported that it was not that dossier that triggered an early FBI probe, but a tip from former Trump campaign foreign policy adviser George Papadopoulos to an Australian diplomat that Russia had damaging information about former Trump rival Hillary Clinton.  ‚ÄúI want somebody to look at the way the Department of Justice used this dossier. It bothers me greatly the way they used it, and I want somebody to look at it,‚Äù Graham said. But he said the Russia investigation must continue. ‚ÄúAs a matter of fact, it would hurt us if we ignored it,‚Äù he said.\n",
      "cleaned WASHINGTON Reuters The special counsel investigation link Russia President TrumpÄôs 2016 election campaign continue without interference 2018 despite call Trump administration ally Republican lawmaker shut prominent Republican senator said Sunday Lindsey Graham serf Senate armed force judiciary committee said Department Justice Special Counsel Robert Mueller need carry Russia investigation without political interference ÄúThis investigation go forward It investigation conducted without political influenceÄù Graham said CBSÄôs Face Nation news program ÄúAnd need let Mr Mueller job I think heÄôs right guy right timeÄù The question Russia may interfered election TrumpÄôs campaign may link coordinated effort loomed White House since Trump took office January It show sign receding Trump prepares second year power despite intensified rhetoric Trump ally recent week accusing MuellerÄôs team bias Republican president Trump seemed undercut supporter interview last week New York Times said expected Mueller Äúgoing fairÄù RussiaÄôs role election question possible link Trump campaign focus multiple inquiry Washington Three committee Senate House Representatives investigating well Mueller whose team May took earlier probe launched US Federal Bureau Investigation FBI Several member Trump campaign administration convicted indicted investigation Trump ally deny collusion Russia campaign Kremlin denied meddling election Graham said still want examination FBIÄôs use dossier link Trump Russia compiled former British spy Christopher Steele prompted Trump ally Republicans question MuellerÄôs inquiry On Saturday New York Times reported dossier triggered early FBI probe tip former Trump campaign foreign policy adviser George Papadopoulos Australian diplomat Russia damaging information former Trump rival Hillary Clinton ÄúI want somebody look way Department Justice used dossier It bother greatly way used I want somebody look itÄù Graham said But said Russia investigation must continue ÄúAs matter fact would hurt u ignored itÄù said\n",
      "\n",
      "Probability for this news being fake is     : 0%\n"
     ]
    }
   ],
   "source": [
    "def check_news():\n",
    "    news = input('Submit the news\\n')\n",
    "\n",
    "    # Clean\n",
    "    removed_spc_char_corpus = re.sub(r'[^\\w\\s]','', news)\n",
    "\n",
    "    # Tokenize corpus\n",
    "    corpus_token = nltk.word_tokenize(removed_spc_char_corpus)\n",
    "\n",
    "    # Remove stop words\n",
    "    stop_words = set(stopwords.words(\"english\"))\n",
    "    corpus_stop_wrd_remvd = [word for word in corpus_token if word not in stop_words]\n",
    "\n",
    "    # Lemmatize words\n",
    "    cleaned_corpus = lemmatize_text(corpus_stop_wrd_remvd)\n",
    "\n",
    "    cleaned_corpus = ' '.join(cleaned_corpus)\n",
    "    \n",
    "    print(\"cleaned\", cleaned_corpus)\n",
    "    freq_term_matrix = count_vectorizer.transform([cleaned_corpus])\n",
    "\n",
    "    # Calculate TF-IDF\n",
    "    tf_idf_matrix = tfidf.transform(freq_term_matrix)\n",
    "    \n",
    "    # Calculate probability\n",
    "    probability = model.predict(tf_idf_matrix.reshape(1,-1))* 100\n",
    "    probability = round(probability[0], 2)\n",
    "\n",
    "    return cleaned_corpus, probability\n",
    "\n",
    "cleaned_corpus, probability = check_news()\n",
    "\n",
    "print(f\"\\nProbability for this news being fake is     : {probability}%\")"
   ]
  },
  {
   "cell_type": "markdown",
   "id": "091faa5a",
   "metadata": {},
   "source": [
    "# Check ML models"
   ]
  },
  {
   "cell_type": "code",
   "execution_count": 32,
   "id": "dd57fde0",
   "metadata": {},
   "outputs": [
    {
     "name": "stdout",
     "output_type": "stream",
     "text": [
      "Submit the news\n",
      "WASHINGTON (Reuters) - The special counsel investigation of links between Russia and President Trump‚Äôs 2016 election campaign should continue without interference in 2018, despite calls from some Trump administration allies and Republican lawmakers to shut it down, a prominent Republican senator said on Sunday. Lindsey Graham, who serves on the Senate armed forces and judiciary committees, said Department of Justice Special Counsel Robert Mueller needs to carry on with his Russia investigation without political interference. ‚ÄúThis investigation will go forward. It will be an investigation conducted without political influence,‚Äù Graham said on CBS‚Äôs Face the Nation news program. ‚ÄúAnd we all need to let Mr. Mueller do his job. I think he‚Äôs the right guy at the right time.‚Äù  The question of how Russia may have interfered in the election, and how Trump‚Äôs campaign may have had links with or co-ordinated any such effort, has loomed over the White House since Trump took office in January. It shows no sign of receding as Trump prepares for his second year in power, despite intensified rhetoric from some Trump allies in recent weeks accusing Mueller‚Äôs team of bias against the Republican president. Trump himself seemed to undercut his supporters in an interview last week with the New York Times in which he said he expected Mueller was ‚Äúgoing to be fair.‚Äù    Russia‚Äôs role in the election and the question of possible links to the Trump campaign are the focus of multiple inquiries in Washington. Three committees of the Senate and the House of Representatives are investigating, as well as Mueller, whose team in May took over an earlier probe launched by the U.S. Federal Bureau of Investigation (FBI). Several members of the Trump campaign and administration have been convicted or indicted in the investigation.  Trump and his allies deny any collusion with Russia during the campaign, and the Kremlin has denied meddling in the election. Graham said he still wants an examination of the FBI‚Äôs use of a dossier on links between Trump and Russia that was compiled by a former British spy, Christopher Steele, which prompted Trump allies and some Republicans to question Mueller‚Äôs inquiry.   On Saturday, the New York Times reported that it was not that dossier that triggered an early FBI probe, but a tip from former Trump campaign foreign policy adviser George Papadopoulos to an Australian diplomat that Russia had damaging information about former Trump rival Hillary Clinton.  ‚ÄúI want somebody to look at the way the Department of Justice used this dossier. It bothers me greatly the way they used it, and I want somebody to look at it,‚Äù Graham said. But he said the Russia investigation must continue. ‚ÄúAs a matter of fact, it would hurt us if we ignored it,‚Äù he said.\n",
      "cleaned WASHINGTON Reuters The special counsel investigation link Russia President TrumpÄôs 2016 election campaign continue without interference 2018 despite call Trump administration ally Republican lawmaker shut prominent Republican senator said Sunday Lindsey Graham serf Senate armed force judiciary committee said Department Justice Special Counsel Robert Mueller need carry Russia investigation without political interference ÄúThis investigation go forward It investigation conducted without political influenceÄù Graham said CBSÄôs Face Nation news program ÄúAnd need let Mr Mueller job I think heÄôs right guy right timeÄù The question Russia may interfered election TrumpÄôs campaign may link coordinated effort loomed White House since Trump took office January It show sign receding Trump prepares second year power despite intensified rhetoric Trump ally recent week accusing MuellerÄôs team bias Republican president Trump seemed undercut supporter interview last week New York Times said expected Mueller Äúgoing fairÄù RussiaÄôs role election question possible link Trump campaign focus multiple inquiry Washington Three committee Senate House Representatives investigating well Mueller whose team May took earlier probe launched US Federal Bureau Investigation FBI Several member Trump campaign administration convicted indicted investigation Trump ally deny collusion Russia campaign Kremlin denied meddling election Graham said still want examination FBIÄôs use dossier link Trump Russia compiled former British spy Christopher Steele prompted Trump ally Republicans question MuellerÄôs inquiry On Saturday New York Times reported dossier triggered early FBI probe tip former Trump campaign foreign policy adviser George Papadopoulos Australian diplomat Russia damaging information former Trump rival Hillary Clinton ÄúI want somebody look way Department Justice used dossier It bother greatly way used I want somebody look itÄù Graham said But said Russia investigation must continue ÄúAs matter fact would hurt u ignored itÄù said\n",
      "\n",
      "Average Probability for this news being fake is: 0.095%\n"
     ]
    }
   ],
   "source": [
    "from sklearn.ensemble import RandomForestRegressor\n",
    "from sklearn.linear_model import LogisticRegression\n",
    "from sklearn.naive_bayes import GaussianNB\n",
    "from sklearn.neighbors import KNeighborsClassifier\n",
    "#from sklearn.externals import joblib\n",
    "import joblib\n",
    "\n",
    "\n",
    "model_names = [\"RandomForest.pkl\", \"LR.pkl\", \"KNN.pkl\", \"naive_bayes.pkl\"]\n",
    "models = {}\n",
    "\n",
    "for model_name in model_names:\n",
    "    model = joblib.load(f\"models/{model_name}\")\n",
    "    models[model_name] = model\n",
    "\n",
    "def check_news():\n",
    "    news = input('Submit the news\\n')\n",
    "\n",
    "    # Clean\n",
    "    removed_spc_char_corpus = re.sub(r'[^\\w\\s]','', news)\n",
    "\n",
    "    # Tokenize corpus\n",
    "    corpus_token = nltk.word_tokenize(removed_spc_char_corpus)\n",
    "\n",
    "    # Remove stop words\n",
    "    stop_words = set(stopwords.words(\"english\"))\n",
    "    corpus_stop_wrd_remvd = [word for word in corpus_token if word not in stop_words]\n",
    "\n",
    "    # Lemmatize words\n",
    "    cleaned_corpus = lemmatize_text(corpus_stop_wrd_remvd)\n",
    "\n",
    "    # Join words back\n",
    "    cleaned_corpus = ' '.join(cleaned_corpus)\n",
    "    \n",
    "    print(\"cleaned\", cleaned_corpus)\n",
    "    \n",
    "    freq_term_matrix = count_vectorizer.transform([cleaned_corpus])\n",
    "\n",
    "    # Calculate TF-IDF\n",
    "    tf_idf_matrix = tfidf.transform(freq_term_matrix)\n",
    "\n",
    "    # Calculate probabilities for all models\n",
    "    probabilities = {}\n",
    "    for model_name, model in models.items():\n",
    "        dense_tf_idf_matrix = tf_idf_matrix.toarray()\n",
    "        probability = model.predict(dense_tf_idf_matrix) * 100\n",
    "        probability = round(probability[0], 2)\n",
    "        probabilities[model_name] = probability\n",
    "\n",
    "    avg_probability = sum(probabilities.values()) / len(probabilities)\n",
    "\n",
    "    return cleaned_corpus, avg_probability\n",
    "\n",
    "cleaned_corpus, avg_probability = check_news()\n",
    "\n",
    "print(f\"\\nAverage Probability for this news being fake is: {avg_probability}%\")\n"
   ]
  },
  {
   "cell_type": "code",
   "execution_count": null,
   "id": "1d89e079",
   "metadata": {},
   "outputs": [],
   "source": []
  }
 ],
 "metadata": {
  "kernelspec": {
   "display_name": "Python 3 (ipykernel)",
   "language": "python",
   "name": "python3"
  },
  "language_info": {
   "codemirror_mode": {
    "name": "ipython",
    "version": 3
   },
   "file_extension": ".py",
   "mimetype": "text/x-python",
   "name": "python",
   "nbconvert_exporter": "python",
   "pygments_lexer": "ipython3",
   "version": "3.9.7"
  }
 },
 "nbformat": 4,
 "nbformat_minor": 5
}
